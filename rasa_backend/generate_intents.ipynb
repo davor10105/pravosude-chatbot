{
 "cells": [
  {
   "cell_type": "code",
   "execution_count": null,
   "metadata": {},
   "outputs": [],
   "source": [
    "import uuid\n",
    "\n",
    "\n",
    "class Example():\n",
    "    def __init__(self, question, answer, intent=None) -> None:\n",
    "        self.question = question\n",
    "        self.answer = answer\n",
    "        if intent is None:\n",
    "            self.intent = str(uuid.uuid4())\n",
    "        else:\n",
    "            self.intent = intent"
   ]
  },
  {
   "cell_type": "code",
   "execution_count": 111,
   "metadata": {},
   "outputs": [],
   "source": [
    "examples_path = 'chatbot_epredmet_examples_20072023.txt'\n",
    "\n",
    "examples = []\n",
    "k = 0\n",
    "with open(examples_path, 'r') as f:\n",
    "    c_intro, c_question, c_answer = None, None, None\n",
    "    for i, line in enumerate(f.readlines()):\n",
    "        line = line.strip()\n",
    "        if line.startswith('!!'):\n",
    "            c_intro = f'{line[2:]} - '\n",
    "        elif k % 2 == 0:\n",
    "            c_question = line\n",
    "            k += 1\n",
    "        else:\n",
    "            c_answer = line\n",
    "            example = Example(c_intro + c_question, c_answer)\n",
    "            #example = Example(c_question, c_answer)\n",
    "            examples.append(example)\n",
    "            k += 1"
   ]
  },
  {
   "cell_type": "code",
   "execution_count": 112,
   "metadata": {},
   "outputs": [],
   "source": [
    "from collections import OrderedDict\n",
    "import yaml\n",
    "\n",
    "\n",
    "# generate domain file\n",
    "#with open('domain.yml')\n",
    "domain_dict = {}\n",
    "domain_dict['version'] = '3.1'\n",
    "domain_dict['intents'] = []\n",
    "domain_dict['responses'] = {}\n",
    "for example in examples:\n",
    "    domain_dict['intents'].append(example.intent)\n",
    "    domain_dict['responses'][f'utter_{example.intent}'] = [{'text': f'\"{example.answer}\"'}]"
   ]
  },
  {
   "cell_type": "code",
   "execution_count": 113,
   "metadata": {},
   "outputs": [],
   "source": [
    "with open('domain.yml', 'w') as f:\n",
    "    yaml.dump(domain_dict, f, allow_unicode=True, width=float(\"inf\"))"
   ]
  },
  {
   "cell_type": "code",
   "execution_count": 114,
   "metadata": {},
   "outputs": [],
   "source": [
    "from yaml.resolver import BaseResolver\n",
    "\n",
    "class AsLiteral(str):\n",
    "  pass\n",
    "\n",
    "def represent_literal(dumper, data):\n",
    "  return dumper.represent_scalar(BaseResolver.DEFAULT_SCALAR_TAG,\n",
    "      data, style=\"|\")\n",
    "\n",
    "yaml.add_representer(AsLiteral, represent_literal)"
   ]
  },
  {
   "cell_type": "code",
   "execution_count": 115,
   "metadata": {},
   "outputs": [],
   "source": [
    "nlu_dict = {}\n",
    "nlu_dict['version'] = \"3.1\"\n",
    "nlu_dict['nlu'] = []\n",
    "for example in examples:\n",
    "    nlu_example = {}\n",
    "    nlu_example['intent'] = example.intent\n",
    "    example_str = [f'{example.question}']\n",
    "    example_str = AsLiteral(yaml.dump(example_str, allow_unicode=True, width=float(\"inf\")))\n",
    "    nlu_example['examples'] = example_str\n",
    "    nlu_dict['nlu'].append(nlu_example)"
   ]
  },
  {
   "cell_type": "code",
   "execution_count": 116,
   "metadata": {},
   "outputs": [],
   "source": [
    "with open('data/nlu.yml', 'w') as f:\n",
    "    yaml.dump(nlu_dict, f, allow_unicode=True, width=float(\"inf\"))"
   ]
  },
  {
   "cell_type": "code",
   "execution_count": 117,
   "metadata": {},
   "outputs": [],
   "source": [
    "stories_dict = {}\n",
    "stories_dict['version'] = \"3.1\"\n",
    "stories_dict['stories'] = []\n",
    "for i, example in enumerate(examples):\n",
    "    story = {'story': str(i)}\n",
    "    story['steps'] = [{'intent': example.intent}, {'action': f'utter_{example.intent}'}]\n",
    "    stories_dict['stories'].append(story)"
   ]
  },
  {
   "cell_type": "code",
   "execution_count": 118,
   "metadata": {},
   "outputs": [],
   "source": [
    "with open('data/stories.yml', 'w') as f:\n",
    "    yaml.dump(stories_dict, f, allow_unicode=True, width=float(\"inf\"))"
   ]
  },
  {
   "cell_type": "code",
   "execution_count": 119,
   "metadata": {},
   "outputs": [],
   "source": [
    "rules_dict = {}\n",
    "rules_dict['version'] = \"3.1\"\n",
    "rules_dict['rules'] = []\n",
    "for i, example in enumerate(examples):\n",
    "    rule = {'rule': str(i)}\n",
    "    rule['steps'] = [{'intent': example.intent}, {'action': f'utter_{example.intent}'}]\n",
    "    rules_dict['rules'].append(rule)"
   ]
  },
  {
   "cell_type": "code",
   "execution_count": 120,
   "metadata": {},
   "outputs": [],
   "source": [
    "with open('data/rules.yml', 'w') as f:\n",
    "    yaml.dump(rules_dict, f, allow_unicode=True, width=float(\"inf\"))"
   ]
  },
  {
   "cell_type": "code",
   "execution_count": null,
   "metadata": {},
   "outputs": [],
   "source": []
  }
 ],
 "metadata": {
  "interpreter": {
   "hash": "35719ef1f9e880c0ced3c04e169a89d5e07c56d05abf80b575adcb8277f4fd8e"
  },
  "kernelspec": {
   "display_name": "Python 3.8.10 ('rasa_env': venv)",
   "language": "python",
   "name": "python3"
  },
  "language_info": {
   "codemirror_mode": {
    "name": "ipython",
    "version": 3
   },
   "file_extension": ".py",
   "mimetype": "text/x-python",
   "name": "python",
   "nbconvert_exporter": "python",
   "pygments_lexer": "ipython3",
   "version": "3.8.10"
  },
  "orig_nbformat": 4
 },
 "nbformat": 4,
 "nbformat_minor": 2
}
